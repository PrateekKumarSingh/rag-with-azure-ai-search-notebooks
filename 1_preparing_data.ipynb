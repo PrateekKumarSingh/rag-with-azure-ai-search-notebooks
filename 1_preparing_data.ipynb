{
 "cells": [
  {
   "cell_type": "markdown",
   "metadata": {},
   "source": [
    "# Preparing the data"
   ]
  },
  {
   "cell_type": "markdown",
   "metadata": {},
   "source": [
    "### The Process - Unstructured data to Vector Embeddings\n",
    "![](./images/preparing_data.png)\n",
    "\n"
   ]
  },
  {
   "cell_type": "markdown",
   "metadata": {},
   "source": [
    "## Setup OpenAI API"
   ]
  },
  {
   "cell_type": "code",
   "execution_count": 1,
   "metadata": {},
   "outputs": [],
   "source": [
    "import os\n",
    "\n",
    "import azure.identity\n",
    "import dotenv\n",
    "import openai\n",
    "\n",
    "# Set up OpenAI client based on environment variables\n",
    "dotenv.load_dotenv()\n",
    "AZURE_OPENAI_SERVICE = os.getenv(\"AZURE_OPENAI_SERVICE\")\n",
    "AZURE_OPENAI_ADA_DEPLOYMENT = os.getenv(\"AZURE_OPENAI_ADA_DEPLOYMENT\")\n",
    "AZURE_OPENAI_DEPLOYMENT_NAME = os.getenv(\"AZURE_OPENAI_DEPLOYMENT_NAME\")\n",
    "\n",
    "azure_credential = azure.identity.AzureDeveloperCliCredential(\n",
    "    tenant_id=os.getenv(\"AZURE_TENANT_ID\"))\n",
    "token_provider = azure.identity.get_bearer_token_provider(azure_credential,\n",
    "                                                          \"https://cognitiveservices.azure.com/.default\")\n",
    "openai_client = openai.AzureOpenAI(\n",
    "    api_version=\"2024-06-01\",\n",
    "    azure_endpoint=f\"https://{AZURE_OPENAI_SERVICE}.openai.azure.com\",\n",
    "\n",
    "    azure_ad_token_provider=token_provider)"
   ]
  },
  {
   "cell_type": "markdown",
   "metadata": {},
   "source": [
    "### Chunking and creating Embeddings"
   ]
  },
  {
   "cell_type": "code",
   "execution_count": 3,
   "metadata": {},
   "outputs": [
    {
     "name": "stdout",
     "output_type": "stream",
     "text": [
      "Chunked Movie Details:\n",
      "Chunk 1:\n",
      "Title: The Shawshank Redemption, Plot: Two imprisoned men bond over a number of years, finding solace and eventual redemption through acts of common decency.\n",
      "\n",
      "Chunk 2:\n",
      "Title: Pulp Fiction, Plot: The lives of two mob hit men, a boxer, a gangster's wife, and a pair of diner bandits intertwine in four tales of violence and redemption.\n",
      "\n",
      "Chunk 3:\n",
      "Title: Forrest Gump, Plot: Forrest Gump, while not intelligent, has accidentally been present at many historic moments, but his true love, Jenny Curran, eludes him.\n",
      "\n",
      "Chunk 4:\n",
      "Title: The Lord of the Rings: The Return of the King, Plot: Gandalf and Aragorn lead the World of Men against Sauron's army to draw his gaze from Frodo and Sam as they approach Mount Doom with the One Ring.\n",
      "\n",
      "Chunk 5:\n",
      "Title: The Lord of the Rings: The Fellowship of the Ring, Plot: A meek Hobbit from the Shire and eight companions set out on a journey to destroy the powerful One Ring and save Middle Earth from the Dark Lord Sauron.\n",
      "\n",
      "Chunk 6:\n",
      "Title: The Lord of the Rings: The Two Towers, Plot: While Frodo and Sam edge closer to Mordor with the help of the shifty Gollum, the divided fellowship makes a stand against Sauron's new ally, Saruman, and his hordes of Isengard.\n",
      "\n",
      "Chunk 7:\n",
      "Title: The Dark Knight, Plot: When the menace known as the Joker emerges from his mysterious past, he wreaks havoc and chaos on the people of Gotham.\n",
      "\n",
      "Chunk 8:\n",
      "Title: Inception, Plot: A thief who steals corporate secrets through use of dream-sharing technology is given the inverse task of planting an idea into the mind of a CEO.\n",
      "\n",
      "Chunk 9:\n",
      "Title: The Godfather, Plot: The aging patriarch of an organized crime dynasty transfers control of his clandestine empire to his reluctant son.\n",
      "\n",
      "Chunk 10:\n",
      "Title: The Matrix, Plot: A computer hacker learns from mysterious rebels about the true nature of his reality and his role in the war against its controllers.\n",
      "\n",
      "Chunk 11:\n",
      "Title: Gladiator, Plot: A former Roman General sets out to exact vengeance against the corrupt emperor who murdered his family and sent him into slavery.\n",
      "\n",
      "Chunk 12:\n",
      "Title: Titanic, Plot: A seventeen-year-old aristocrat falls in love with a kind but poor artist aboard the luxurious, ill-fated R.M.S. Titanic.\n",
      "\n",
      "Chunk 13:\n",
      "Title: Interstellar, Plot: A team of explorers travel through a wormhole in space in an attempt to ensure humanity's survival.\n",
      "\n",
      "Chunk 14:\n",
      "Title: Fight Club, Plot: An insomniac office worker and a devil-may-care soap maker form an underground fight club that evolves into something much, much more.\n",
      "\n",
      "Chunk 15:\n",
      "Title: The Silence of the Lambs, Plot: A young F.B.I. cadet must receive the help of an incarcerated and manipulative cannibal killer to catch another serial killer.\n",
      "\n",
      "Chunk 16:\n",
      "Title: Schindler's List, Plot: In German-occupied Poland during World War II, industrialist Oskar Schindler gradually becomes concerned for his Jewish workforce.\n",
      "\n",
      "Chunk 17:\n",
      "Title: Jurassic Park, Plot: During a preview tour, a theme park suffers a major power breakdown that allows its cloned dinosaur exhibits to run amok.\n",
      "\n",
      "Chunk 18:\n",
      "Title: The Avengers, Plot: Earth's mightiest heroes must come together and learn to fight as a team to stop the mischievous Loki and his alien army.\n",
      "\n",
      "Chunk 19:\n",
      "Title: Avatar, Plot: A paraplegic Marine dispatched to the moon Pandora on a unique mission becomes torn between following orders and protecting an alien civilization.\n",
      "\n",
      "Chunk 20:\n",
      "Title: Star Wars: Episode IV - A New Hope, Plot: Luke Skywalker joins forces with a Jedi Knight, a cocky pilot, a Wookiee and two droids to save the galaxy from the Empire's world-destroying battle station.\n",
      "\n",
      "Chunk 21:\n",
      "Title: Star Wars: Episode V - The Empire Strikes Back, Plot: After the Rebels are brutally overpowered by the Empire on the ice planet Hoth, Luke begins Jedi training with Yoda while his friends are pursued.\n",
      "\n",
      "Chunk 22:\n",
      "Title: Harry Potter and the Sorcerer's Stone, Plot: An orphaned boy enrolls in a school of wizardry, where he learns the truth about himself, his family and the terrible evil that haunts the magical world.\n",
      "\n",
      "Chunk 23:\n",
      "Title: Harry Potter and the Deathly Hallows: Part 2, Plot: Harry, Ron and Hermione search for Voldemort's remaining Horcruxes in their effort to destroy the Dark Lord.\n",
      "\n",
      "Chunk 24:\n",
      "Title: Iron Man, Plot: After being held captive in an Afghan cave, billionaire engineer Tony Stark creates a unique weaponized suit of armor to fight evil.\n",
      "\n",
      "Chunk 25:\n",
      "Title: Captain America: The Winter Soldier, Plot: As Steve Rogers struggles to embrace his role in the modern world, he teams up with a fellow Avenger and S.H.I.E.L.D agent to battle a new threat.\n",
      "\n"
     ]
    }
   ],
   "source": [
    "import json\n",
    "import openai\n",
    "import numpy as np\n",
    "import faiss\n",
    "\n",
    "# Load movie data\n",
    "with open(\"/workspaces/rag-with-azure-ai-search-notebooks/movies.json\", \"r\") as file:\n",
    "    data = json.load(file)\n",
    "\n",
    "# Step 1: Extract movie details\n",
    "movies = data[\"movies\"]\n",
    "\n",
    "# Step 2: Create chunks of movie details\n",
    "chunk_size = 1  # Number of movies per chunk\n",
    "chunks = []\n",
    "\n",
    "for i in range(0, len(movies), chunk_size):\n",
    "    chunk = movies[i:i + chunk_size]\n",
    "    chunk_text = \"\\n\".join(\n",
    "        f\"Title: {movie['title']}, Plot: {movie['plot']}\"\n",
    "        for movie in chunk\n",
    "    )\n",
    "    chunks.append(chunk_text)\n",
    "\n",
    "# Step 3: Display the chunks\n",
    "print(\"Chunked Movie Details:\")\n",
    "for i, chunk in enumerate(chunks):\n",
    "    print(f\"Chunk {i + 1}:\\n{chunk}\\n\")"
   ]
  },
  {
   "cell_type": "code",
   "execution_count": 5,
   "metadata": {},
   "outputs": [
    {
     "name": "stdout",
     "output_type": "stream",
     "text": [
      "Chunk embeddings created 25 chunks.\n",
      "First chunk embedding: [-0.006355491001158953, -0.025520119816064835, 0.010039783082902431, -0.016083283349871635, 0.010187014937400818, 0.0034143675584346056, -0.031072847545146942, -0.02000945620238781, -0.007740167900919914, -0.003505510976538062]\n"
     ]
    }
   ],
   "source": [
    "chunk_embeddings = []\n",
    "for chunk in chunks:\n",
    "    # Combine titles in the chunk into a single string\n",
    "    chunk_text = \" \".join(chunk)\n",
    "    response = openai_client.embeddings.create(\n",
    "        model=AZURE_OPENAI_ADA_DEPLOYMENT, input=chunk_text)\n",
    "    embedding = response.data[0].embedding\n",
    "    chunk_embeddings.append(embedding)\n",
    "\n",
    "print(\"Chunk embeddings created\", len(chunk_embeddings), \"chunks.\")\n",
    "# Print first 5 dimensions of the first chunk embedding\n",
    "print(\"First chunk embedding:\", chunk_embeddings[0][:10])"
   ]
  },
  {
   "cell_type": "markdown",
   "metadata": {},
   "source": [
    "### Why is length of all Embeddings = 1536?"
   ]
  },
  {
   "cell_type": "code",
   "execution_count": 6,
   "metadata": {},
   "outputs": [
    {
     "data": {
      "text/plain": [
       "1536"
      ]
     },
     "execution_count": 6,
     "metadata": {},
     "output_type": "execute_result"
    }
   ],
   "source": [
    "len(chunk_embeddings[2])"
   ]
  },
  {
   "cell_type": "markdown",
   "metadata": {},
   "source": [
    "# Storing the Data"
   ]
  },
  {
   "cell_type": "markdown",
   "metadata": {},
   "source": [
    "### Indexing"
   ]
  },
  {
   "cell_type": "code",
   "execution_count": 8,
   "metadata": {},
   "outputs": [
    {
     "name": "stdout",
     "output_type": "stream",
     "text": [
      "Movie titles have been chunked, embedded, and indexed successfully!\n"
     ]
    }
   ],
   "source": [
    "\n",
    "# Step 4: Index the embeddings using FAISS\n",
    "dimension = len(chunk_embeddings[0])  # Dimensionality of the embeddings\n",
    "index = faiss.IndexFlatL2(dimension)  # Create a flat (non-compressed) index\n",
    "\n",
    "# Convert embeddings to a NumPy array and add to the index\n",
    "embeddings_array = np.array(chunk_embeddings).astype('float32')\n",
    "index.add(embeddings_array)\n",
    "\n",
    "# Save the FAISS index for later use\n",
    "faiss.write_index(index, \"movie_title_embeddings.index\")\n",
    "\n",
    "print(\"Movie titles have been chunked, embedded, and indexed successfully!\")"
   ]
  },
  {
   "cell_type": "markdown",
   "metadata": {},
   "source": [
    "# Retrieval of Data"
   ]
  },
  {
   "cell_type": "markdown",
   "metadata": {},
   "source": [
    "### Similarity Search"
   ]
  },
  {
   "cell_type": "code",
   "execution_count": 9,
   "metadata": {},
   "outputs": [
    {
     "name": "stdout",
     "output_type": "stream",
     "text": [
      "Loaded FAISS index with 25 vectors of dimension 1536\n",
      "Retrieved 25 embeddings from index.\n",
      "\n",
      "Top 5 similar movies:\n",
      "                                                Title  Similarity\n",
      "23  {'title': 'Iron Man', 'year': '2008', 'genres'...    0.770712\n",
      "15  {'title': 'Schindler's List', 'year': '1993', ...    0.770570\n",
      "9   {'title': 'The Matrix', 'year': '1999', 'genre...    0.770208\n",
      "10  {'title': 'Gladiator', 'year': '2000', 'genres...    0.762998\n",
      "18  {'title': 'Avatar', 'year': '2009', 'genres': ...    0.760081\n"
     ]
    }
   ],
   "source": [
    "import faiss\n",
    "import numpy as np\n",
    "from sklearn.metrics.pairwise import cosine_similarity\n",
    "import pandas as pd\n",
    "\n",
    "# Load FAISS index\n",
    "index = faiss.read_index(\"movie_title_embeddings.index\")\n",
    "dimension = index.d\n",
    "num_vectors = index.ntotal\n",
    "\n",
    "print(\n",
    "    f\"Loaded FAISS index with {num_vectors} vectors of dimension {dimension}\")\n",
    "assert len(\n",
    "    movies) == num_vectors, \"Number of titles must match number of embeddings in FAISS index.\"\n",
    "\n",
    "# Retrieve all stored embeddings\n",
    "embeddings = np.vstack([index.reconstruct(i) for i in range(num_vectors)])\n",
    "print(f\"Retrieved {embeddings.shape[0]} embeddings from index.\")\n",
    "\n",
    "# Define query\n",
    "query_text = \"soldier\"\n",
    "response = openai_client.embeddings.create(\n",
    "    model=AZURE_OPENAI_ADA_DEPLOYMENT,\n",
    "    input=[query_text]\n",
    ")\n",
    "query_vector = np.array(response.data[0].embedding).astype(\n",
    "    'float32').reshape(1, -1)\n",
    "\n",
    "# Compute cosine similarity\n",
    "similarities = cosine_similarity(query_vector, embeddings)[0]\n",
    "\n",
    "# Build DataFrame with titles and similarity scores\n",
    "df = pd.DataFrame({\n",
    "    \"Title\": movies,\n",
    "    \"Similarity\": similarities\n",
    "}).sort_values(\"Similarity\", ascending=False)\n",
    "\n",
    "print(\"\\nTop 5 similar movies:\")\n",
    "print(df.head(5))"
   ]
  }
 ],
 "metadata": {
  "kernelspec": {
   "display_name": "Python 3",
   "language": "python",
   "name": "python3"
  },
  "language_info": {
   "codemirror_mode": {
    "name": "ipython",
    "version": 3
   },
   "file_extension": ".py",
   "mimetype": "text/x-python",
   "name": "python",
   "nbconvert_exporter": "python",
   "pygments_lexer": "ipython3",
   "version": "3.11.12"
  },
  "orig_nbformat": 4
 },
 "nbformat": 4,
 "nbformat_minor": 2
}
