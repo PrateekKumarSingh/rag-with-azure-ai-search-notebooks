{
 "cells": [
  {
   "cell_type": "markdown",
   "metadata": {},
   "source": [
    "# Generation using Retrieved Data"
   ]
  },
  {
   "cell_type": "markdown",
   "metadata": {},
   "source": [
    "## Setup OpenAI API"
   ]
  },
  {
   "cell_type": "code",
   "execution_count": 2,
   "metadata": {},
   "outputs": [],
   "source": [
    "import os\n",
    "\n",
    "import azure.identity\n",
    "import dotenv\n",
    "import openai\n",
    "\n",
    "# Set up OpenAI client based on environment variables\n",
    "dotenv.load_dotenv()\n",
    "AZURE_OPENAI_SERVICE = os.getenv(\"AZURE_OPENAI_SERVICE\")\n",
    "AZURE_OPENAI_ADA_DEPLOYMENT = os.getenv(\"AZURE_OPENAI_ADA_DEPLOYMENT\")\n",
    "AZURE_OPENAI_DEPLOYMENT_NAME = os.getenv(\"AZURE_OPENAI_DEPLOYMENT_NAME\")\n",
    "\n",
    "azure_credential = azure.identity.AzureDeveloperCliCredential(\n",
    "    tenant_id=os.getenv(\"AZURE_TENANT_ID\"))\n",
    "token_provider = azure.identity.get_bearer_token_provider(azure_credential,\n",
    "                                                          \"https://cognitiveservices.azure.com/.default\")\n",
    "openai_client = openai.AzureOpenAI(\n",
    "    api_version=\"2024-06-01\",\n",
    "    azure_endpoint=f\"https://{AZURE_OPENAI_SERVICE}.openai.azure.com\",\n",
    "    azure_ad_token_provider=token_provider)"
   ]
  },
  {
   "cell_type": "markdown",
   "metadata": {},
   "source": [
    "### Recommendation System"
   ]
  },
  {
   "cell_type": "code",
   "execution_count": 93,
   "metadata": {},
   "outputs": [
    {
     "name": "stdout",
     "output_type": "stream",
     "text": [
      "[User] A space adventure with aliens and distant planets\n",
      "\n",
      "[Assistant] Movie recommendations:\n",
      "\n",
      "If you're in the mood for a thrilling space adventure, I highly recommend starting with \"Interstellar.\" Its stunning visuals and thought-provoking themes about love and sacrifice in the face of cosmic challenges will keep you captivated. Plus, the exploration of distant planets and the concept of wormholes adds an exciting layer of sci-fi intrigue that perfectly fits your interest in alien worlds! Enjoy your journey through the stars!\n"
     ]
    }
   ],
   "source": [
    "import json\n",
    "import numpy as np\n",
    "import pandas as pd\n",
    "from sklearn.metrics.pairwise import cosine_similarity\n",
    "import faiss\n",
    "\n",
    "# 1. Load movie data\n",
    "with open(\"movies.json\", \"r\") as f:\n",
    "    data = json.load(f)\n",
    "\n",
    "movies = data[\"movies\"]\n",
    "titles = [movie[\"title\"] for movie in movies]\n",
    "texts = [f\"{movie['title']} {movie['plot']}\" for movie in movies]\n",
    "\n",
    "# 2. Load FAISS index\n",
    "index = faiss.read_index(\"movie_embeddings.index\")\n",
    "num_vectors = index.ntotal\n",
    "dimension = index.d\n",
    "\n",
    "# 3. Reconstruct embeddings from index\n",
    "embeddings = np.vstack([index.reconstruct(i) for i in range(num_vectors)])\n",
    "\n",
    "# 4. Generate query embedding\n",
    "query_text = \"A space adventure with aliens and distant planets\"\n",
    "response = openai_client.embeddings.create(\n",
    "    model=AZURE_OPENAI_ADA_DEPLOYMENT,\n",
    "    input=[query_text]\n",
    ")\n",
    "query_vector = np.array(response.data[0].embedding).astype(\n",
    "    'float32').reshape(1, -1)\n",
    "print(f\"[User] {query_text}\")\n",
    "\n",
    "# 5. Compute cosine similarity and select top k results\n",
    "similarities = cosine_similarity(query_vector, embeddings)[0]\n",
    "df = pd.DataFrame({\n",
    "    \"Title\": titles,\n",
    "    \"Similarity\": similarities,\n",
    "    \"Index\": np.arange(len(titles))\n",
    "}).sort_values(\"Similarity\", ascending=False)\n",
    "k = 5\n",
    "top_movies = df.head(k)\n",
    "\n",
    "# 6. Build descriptions for LLM prompt\n",
    "descriptions = []\n",
    "for _, row in top_movies.iterrows():\n",
    "    movie = movies[int(row[\"Index\"])]\n",
    "    desc = f\"Title: {movie['title']}\\nYear: {movie['year']}\\nGenres: {', '.join(movie['genres'])}\\nPlot: {movie['plot']}\"\n",
    "    descriptions.append(desc)\n",
    "\n",
    "movie_descriptions = \"\\n\\n\".join(descriptions)\n",
    "\n",
    "# 7. Build prompt and call OpenAI chat LLM\n",
    "prompt = f\"\"\"\n",
    "A user is looking for a movie recommendation similar to: \"{query_text}\".\n",
    "\n",
    "Here are the top recommended movies:\n",
    "\n",
    "{movie_descriptions}\n",
    "\n",
    "Based on these, write a friendly recommendation message in 2-3 sentences, highlighting which movie the user should watch first and why.\n",
    "\"\"\"\n",
    "\n",
    "response = openai_client.chat.completions.create(\n",
    "    model=AZURE_OPENAI_DEPLOYMENT_NAME,\n",
    "    messages=[\n",
    "        {\"role\": \"system\", \"content\": \"You are a helpful movie recommendation assistant.\"},\n",
    "        {\"role\": \"user\", \"content\": prompt}\n",
    "    ],\n",
    "    temperature=0.7,\n",
    "    max_tokens=500\n",
    ")\n",
    "\n",
    "recommendation = response.choices[0].message.content\n",
    "\n",
    "# Final output\n",
    "print(\"\\n[Assistant] Movie recommendations:\\n\")\n",
    "print(recommendation)"
   ]
  }
 ],
 "metadata": {
  "kernelspec": {
   "display_name": "Python 3",
   "language": "python",
   "name": "python3"
  },
  "language_info": {
   "codemirror_mode": {
    "name": "ipython",
    "version": 3
   },
   "file_extension": ".py",
   "mimetype": "text/x-python",
   "name": "python",
   "nbconvert_exporter": "python",
   "pygments_lexer": "ipython3",
   "version": "3.11.12"
  },
  "orig_nbformat": 4
 },
 "nbformat": 4,
 "nbformat_minor": 2
}
